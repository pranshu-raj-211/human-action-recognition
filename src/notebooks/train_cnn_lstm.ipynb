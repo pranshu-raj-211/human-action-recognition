{
  "cells": [
    {
      "cell_type": "code",
      "execution_count": null,
      "metadata": {
        "id": "Ri6Hjb6hB7Hs"
      },
      "outputs": [],
      "source": [
        "import os\n",
        "from google.colab import drive\n",
        "import numpy as np\n",
        "import pandas as pd\n",
        "import keras\n",
        "from keras import Sequential\n",
        "from keras.layers import (\n",
        "    Conv1D,\n",
        "    MaxPooling1D,\n",
        "    LSTM,\n",
        "    Dense,\n",
        "    Dropout,\n",
        "    GlobalAveragePooling1D,\n",
        "    BatchNormalization,\n",
        ")\n",
        "from keras.optimizers import Adam\n",
        "from keras.callbacks import EarlyStopping, ModelCheckpoint, Callback\n",
        "from keras.utils import to_categorical\n",
        "import matplotlib.pyplot as plt"
      ]
    },
    {
      "cell_type": "code",
      "execution_count": null,
      "metadata": {
        "colab": {
          "base_uri": "https://localhost:8080/"
        },
        "id": "71Kv42rECMpW",
        "outputId": "b338dd1c-e212-4ec2-c46b-0d40429ab9ce"
      },
      "outputs": [],
      "source": [
        "drive.mount(\"/content/drive\")\n",
        "path = \"/content/drive/My Drive/opportunity_raw/opp_temp\"\n",
        "os.listdir(path)"
      ]
    },
    {
      "cell_type": "code",
      "execution_count": null,
      "metadata": {
        "colab": {
          "base_uri": "https://localhost:8080/"
        },
        "id": "2-R0Cf1rCQ0j",
        "outputId": "05ca6fde-d16c-4167-9899-4a4798b66b5d"
      },
      "outputs": [],
      "source": [
        "os.listdir(os.path.join(path, \"train\"))"
      ]
    },
    {
      "cell_type": "code",
      "execution_count": null,
      "metadata": {
        "id": "RFRxf_VpB7Ht"
      },
      "outputs": [],
      "source": [
        "column_names = [\n",
        "    \"MILLISEC\",\n",
        "    \"Accelerometer RKN^ accX\",\n",
        "    \"Accelerometer RKN^ accY\",\n",
        "    \"Accelerometer RKN^ accZ\",\n",
        "    \"Accelerometer HIP accX\",\n",
        "    \"Accelerometer HIP accY\",\n",
        "    \"Accelerometer HIP accZ\",\n",
        "    \"Accelerometer LUA^ accX\",\n",
        "    \"Accelerometer LUA^ accY\",\n",
        "    \"Accelerometer LUA^ accZ\",\n",
        "    \"Accelerometer RUA_ accX\",\n",
        "    \"Accelerometer RUA_ accY\",\n",
        "    \"Accelerometer RUA_ accZ\",\n",
        "    \"Accelerometer LH accX\",\n",
        "    \"Accelerometer LH accY\",\n",
        "    \"Accelerometer LH accZ\",\n",
        "    \"Accelerometer BACK accX\",\n",
        "    \"Accelerometer BACK accY\",\n",
        "    \"Accelerometer BACK accZ\",\n",
        "    \"Accelerometer RKN_ accX\",\n",
        "    \"Accelerometer RKN_ accY\",\n",
        "    \"Accelerometer RKN_ accZ\",\n",
        "    \"Accelerometer RWR accX\",\n",
        "    \"Accelerometer RWR accY\",\n",
        "    \"Accelerometer RWR accZ\",\n",
        "    \"Accelerometer RUA^ accX\",\n",
        "    \"Accelerometer RUA^ accY\",\n",
        "    \"Accelerometer RUA^ accZ\",\n",
        "    \"Accelerometer LUA_ accX\",\n",
        "    \"Accelerometer LUA_ accY\",\n",
        "    \"Accelerometer LUA_ accZ\",\n",
        "    \"Accelerometer LWR accX\",\n",
        "    \"Accelerometer LWR accY\",\n",
        "    \"Accelerometer LWR accZ\",\n",
        "    \"Accelerometer RH accX\",\n",
        "    \"Accelerometer RH accY\",\n",
        "    \"Accelerometer RH accZ\",\n",
        "    \"InertialMeasurementUnit BACK accX\",\n",
        "    \"InertialMeasurementUnit BACK accY\",\n",
        "    \"InertialMeasurementUnit BACK accZ\",\n",
        "    \"InertialMeasurementUnit BACK gyroX\",\n",
        "    \"InertialMeasurementUnit BACK gyroY\",\n",
        "    \"InertialMeasurementUnit BACK gyroZ\",\n",
        "    \"InertialMeasurementUnit BACK magneticX\",\n",
        "    \"InertialMeasurementUnit BACK magneticY\",\n",
        "    \"InertialMeasurementUnit BACK magneticZ\",\n",
        "    \"InertialMeasurementUnit BACK Quaternion1\",\n",
        "    \"InertialMeasurementUnit BACK Quaternion2\",\n",
        "    \"InertialMeasurementUnit BACK Quaternion3\",\n",
        "    \"InertialMeasurementUnit BACK Quaternion4\",\n",
        "    \"InertialMeasurementUnit RUA accX\",\n",
        "    \"InertialMeasurementUnit RUA accY\",\n",
        "    \"InertialMeasurementUnit RUA accZ\",\n",
        "    \"InertialMeasurementUnit RUA gyroX\",\n",
        "    \"InertialMeasurementUnit RUA gyroY\",\n",
        "    \"InertialMeasurementUnit RUA gyroZ\",\n",
        "    \"InertialMeasurementUnit RUA magneticX\",\n",
        "    \"InertialMeasurementUnit RUA magneticY\",\n",
        "    \"InertialMeasurementUnit RUA magneticZ\",\n",
        "    \"InertialMeasurementUnit RUA Quaternion1\",\n",
        "    \"InertialMeasurementUnit RUA Quaternion2\",\n",
        "    \"InertialMeasurementUnit RUA Quaternion3\",\n",
        "    \"InertialMeasurementUnit RUA Quaternion4\",\n",
        "    \"InertialMeasurementUnit RLA accX\",\n",
        "    \"InertialMeasurementUnit RLA accY\",\n",
        "    \"InertialMeasurementUnit RLA accZ\",\n",
        "    \"InertialMeasurementUnit RLA gyroX\",\n",
        "    \"InertialMeasurementUnit RLA gyroY\",\n",
        "    \"InertialMeasurementUnit RLA gyroZ\",\n",
        "    \"InertialMeasurementUnit RLA magneticX\",\n",
        "    \"InertialMeasurementUnit RLA magneticY\",\n",
        "    \"InertialMeasurementUnit RLA magneticZ\",\n",
        "    \"InertialMeasurementUnit RLA Quaternion1\",\n",
        "    \"InertialMeasurementUnit RLA Quaternion2\",\n",
        "    \"InertialMeasurementUnit RLA Quaternion3\",\n",
        "    \"InertialMeasurementUnit RLA Quaternion4\",\n",
        "    \"InertialMeasurementUnit LUA accX\",\n",
        "    \"InertialMeasurementUnit LUA accY\",\n",
        "    \"InertialMeasurementUnit LUA accZ\",\n",
        "    \"InertialMeasurementUnit LUA gyroX\",\n",
        "    \"InertialMeasurementUnit LUA gyroY\",\n",
        "    \"InertialMeasurementUnit LUA gyroZ\",\n",
        "    \"InertialMeasurementUnit LUA magneticX\",\n",
        "    \"InertialMeasurementUnit LUA magneticY\",\n",
        "    \"InertialMeasurementUnit LUA magneticZ\",\n",
        "    \"InertialMeasurementUnit LUA Quaternion1\",\n",
        "    \"InertialMeasurementUnit LUA Quaternion2\",\n",
        "    \"InertialMeasurementUnit LUA Quaternion3\",\n",
        "    \"InertialMeasurementUnit LUA Quaternion4\",\n",
        "    \"InertialMeasurementUnit LLA accX\",\n",
        "    \"InertialMeasurementUnit LLA accY\",\n",
        "    \"InertialMeasurementUnit LLA accZ\",\n",
        "    \"InertialMeasurementUnit LLA gyroX\",\n",
        "    \"InertialMeasurementUnit LLA gyroY\",\n",
        "    \"InertialMeasurementUnit LLA gyroZ\",\n",
        "    \"InertialMeasurementUnit LLA magneticX\",\n",
        "    \"InertialMeasurementUnit LLA magneticY\",\n",
        "    \"InertialMeasurementUnit LLA magneticZ\",\n",
        "    \"InertialMeasurementUnit LLA Quaternion1\",\n",
        "    \"InertialMeasurementUnit LLA Quaternion2\",\n",
        "    \"InertialMeasurementUnit LLA Quaternion3\",\n",
        "    \"InertialMeasurementUnit LLA Quaternion4\",\n",
        "    \"InertialMeasurementUnit L-SHOE EuX\",\n",
        "    \"InertialMeasurementUnit L-SHOE EuY\",\n",
        "    \"InertialMeasurementUnit L-SHOE EuZ\",\n",
        "    \"InertialMeasurementUnit L-SHOE Nav_Ax\",\n",
        "    \"InertialMeasurementUnit L-SHOE Nav_Ay\",\n",
        "    \"InertialMeasurementUnit L-SHOE Nav_Az\",\n",
        "    \"InertialMeasurementUnit L-SHOE Body_Ax\",\n",
        "    \"InertialMeasurementUnit L-SHOE Body_Ay\",\n",
        "    \"InertialMeasurementUnit L-SHOE Body_Az\",\n",
        "    \"InertialMeasurementUnit L-SHOE AngVelBodyFrameX\",\n",
        "    \"InertialMeasurementUnit L-SHOE AngVelBodyFrameY\",\n",
        "    \"InertialMeasurementUnit L-SHOE AngVelBodyFrameZ\",\n",
        "    \"InertialMeasurementUnit L-SHOE AngVelNavFrameX\",\n",
        "    \"InertialMeasurementUnit L-SHOE AngVelNavFrameY\",\n",
        "    \"InertialMeasurementUnit L-SHOE AngVelNavFrameZ\",\n",
        "    \"InertialMeasurementUnit L-SHOE Compass\",\n",
        "    \"InertialMeasurementUnit R-SHOE EuX\",\n",
        "    \"InertialMeasurementUnit R-SHOE EuY\",\n",
        "    \"InertialMeasurementUnit R-SHOE EuZ\",\n",
        "    \"InertialMeasurementUnit R-SHOE Nav_Ax\",\n",
        "    \"InertialMeasurementUnit R-SHOE Nav_Ay\",\n",
        "    \"InertialMeasurementUnit R-SHOE Nav_Az\",\n",
        "    \"InertialMeasurementUnit R-SHOE Body_Ax\",\n",
        "    \"InertialMeasurementUnit R-SHOE Body_Ay\",\n",
        "    \"InertialMeasurementUnit R-SHOE Body_Az\",\n",
        "    \"InertialMeasurementUnit R-SHOE AngVelBodyFrameX\",\n",
        "    \"InertialMeasurementUnit R-SHOE AngVelBodyFrameY\",\n",
        "    \"InertialMeasurementUnit R-SHOE AngVelBodyFrameZ\",\n",
        "    \"InertialMeasurementUnit R-SHOE AngVelNavFrameX\",\n",
        "    \"InertialMeasurementUnit R-SHOE AngVelNavFrameY\",\n",
        "    \"InertialMeasurementUnit R-SHOE AngVelNavFrameZ\",\n",
        "    \"InertialMeasurementUnit R-SHOE Compass\",\n",
        "    \"Accelerometer CUP accX\",\n",
        "    \"Accelerometer CUP accX\",\n",
        "    \"Accelerometer CUP accX\",\n",
        "    \"Accelerometer CUP gyroX\",\n",
        "    \"Accelerometer CUP gyroY\",\n",
        "    \"Accelerometer SALAMI accX\",\n",
        "    \"Accelerometer SALAMI accX\",\n",
        "    \"Accelerometer SALAMI accX\",\n",
        "    \"Accelerometer SALAMI gyroX\",\n",
        "    \"Accelerometer SALAMI gyroY\",\n",
        "    \"Accelerometer WATER accX\",\n",
        "    \"Accelerometer WATER accX\",\n",
        "    \"Accelerometer WATER accX\",\n",
        "    \"Accelerometer WATER gyroX\",\n",
        "    \"Accelerometer WATER gyroY\",\n",
        "    \"Accelerometer CHEESE accX\",\n",
        "    \"Accelerometer CHEESE accX\",\n",
        "    \"Accelerometer CHEESE accX\",\n",
        "    \"Accelerometer CHEESE gyroX\",\n",
        "    \"Accelerometer CHEESE gyroY\",\n",
        "    \"Accelerometer BREAD accX\",\n",
        "    \"Accelerometer BREAD accX\",\n",
        "    \"Accelerometer BREAD accX\",\n",
        "    \"Accelerometer BREAD gyroX\",\n",
        "    \"Accelerometer BREAD gyroY\",\n",
        "    \"Accelerometer KNIFE1 accX\",\n",
        "    \"Accelerometer KNIFE1 accX\",\n",
        "    \"Accelerometer KNIFE1 accX\",\n",
        "    \"Accelerometer KNIFE1 gyroX\",\n",
        "    \"Accelerometer KNIFE1 gyroY\",\n",
        "    \"Accelerometer MILK accX\",\n",
        "    \"Accelerometer MILK accX\",\n",
        "    \"Accelerometer MILK accX\",\n",
        "    \"Accelerometer MILK gyroX\",\n",
        "    \"Accelerometer MILK gyroY\",\n",
        "    \"Accelerometer SPOON accX\",\n",
        "    \"Accelerometer SPOON accX\",\n",
        "    \"Accelerometer SPOON accX\",\n",
        "    \"Accelerometer SPOON gyroX\",\n",
        "    \"Accelerometer SPOON gyroY\",\n",
        "    \"Accelerometer SUGAR accX\",\n",
        "    \"Accelerometer SUGAR accX\",\n",
        "    \"Accelerometer SUGAR accX\",\n",
        "    \"Accelerometer SUGAR gyroX\",\n",
        "    \"Accelerometer SUGAR gyroY\",\n",
        "    \"Accelerometer KNIFE2 accX\",\n",
        "    \"Accelerometer KNIFE2 accX\",\n",
        "    \"Accelerometer KNIFE2 accX\",\n",
        "    \"Accelerometer KNIFE2 gyroX\",\n",
        "    \"Accelerometer KNIFE2 gyroY\",\n",
        "    \"Accelerometer PLATE accX\",\n",
        "    \"Accelerometer PLATE accX\",\n",
        "    \"Accelerometer PLATE accX\",\n",
        "    \"Accelerometer PLATE gyroX\",\n",
        "    \"Accelerometer PLATE gyroY\",\n",
        "    \"Accelerometer GLASS accX\",\n",
        "    \"Accelerometer GLASS accX\",\n",
        "    \"Accelerometer GLASS accX\",\n",
        "    \"Accelerometer GLASS gyroX\",\n",
        "    \"Accelerometer GLASS gyroY\",\n",
        "    \"REED SWITCH DISHWASHER S1\",\n",
        "    \"REED SWITCH FRIDGE S3\",\n",
        "    \"REED SWITCH FRIDGE S2\",\n",
        "    \"REED SWITCH FRIDGE S1\",\n",
        "    \"REED SWITCH MIDDLEDRAWER S1\",\n",
        "    \"REED SWITCH MIDDLEDRAWER S2\",\n",
        "    \"REED SWITCH MIDDLEDRAWER S3\",\n",
        "    \"REED SWITCH LOWERDRAWER S3\",\n",
        "    \"REED SWITCH LOWERDRAWER S2\",\n",
        "    \"REED SWITCH UPPERDRAWER\",\n",
        "    \"REED SWITCH DISHWASHER S3\",\n",
        "    \"REED SWITCH LOWERDRAWER S1\",\n",
        "    \"REED SWITCH DISHWASHER S2\",\n",
        "    \"Accelerometer DOOR1 accX\",\n",
        "    \"Accelerometer DOOR1 accY\",\n",
        "    \"Accelerometer DOOR1 accZ\",\n",
        "    \"Accelerometer LAZYCHAIR accX\",\n",
        "    \"Accelerometer LAZYCHAIR accY\",\n",
        "    \"Accelerometer LAZYCHAIR accZ\",\n",
        "    \"Accelerometer DOOR2 accX\",\n",
        "    \"Accelerometer DOOR2 accY\",\n",
        "    \"Accelerometer DOOR2 accZ\",\n",
        "    \"Accelerometer DISHWASHER accX\",\n",
        "    \"Accelerometer DISHWASHER accY\",\n",
        "    \"Accelerometer DISHWASHER accZ\",\n",
        "    \"Accelerometer UPPERDRAWER accX\",\n",
        "    \"Accelerometer UPPERDRAWER accY\",\n",
        "    \"Accelerometer UPPERDRAWER accZ\",\n",
        "    \"Accelerometer LOWERDRAWER accX\",\n",
        "    \"Accelerometer LOWERDRAWER accY\",\n",
        "    \"Accelerometer LOWERDRAWER accZ\",\n",
        "    \"Accelerometer MIDDLEDRAWER accX\",\n",
        "    \"Accelerometer MIDDLEDRAWER accY\",\n",
        "    \"Accelerometer MIDDLEDRAWER accZ\",\n",
        "    \"Accelerometer FRIDGE accX\",\n",
        "    \"Accelerometer FRIDGE accY\",\n",
        "    \"Accelerometer FRIDGE accZ\",\n",
        "    \"LOCATION TAG1 X\",\n",
        "    \"LOCATION TAG1 Y\",\n",
        "    \"LOCATION TAG1 Z\",\n",
        "    \"LOCATION TAG2 X\",\n",
        "    \"LOCATION TAG2 Y\",\n",
        "    \"LOCATION TAG2 Z\",\n",
        "    \"LOCATION TAG3 X\",\n",
        "    \"LOCATION TAG3 Y\",\n",
        "    \"LOCATION TAG3 Z\",\n",
        "    \"LOCATION TAG4 X\",\n",
        "    \"LOCATION TAG4 Y\",\n",
        "    \"LOCATION TAG4 Z\",\n",
        "    \"Locomotion\",\n",
        "    \"HL_Activity\",\n",
        "    \"LL_Left_Arm\",\n",
        "    \"LL_Left_Arm_Object\",\n",
        "    \"LL_Right_Arm\",\n",
        "    \"LL_Right_Arm_Object\",\n",
        "    \"ML_Both_Arms\",\n",
        "]"
      ]
    },
    {
      "cell_type": "code",
      "execution_count": null,
      "metadata": {
        "id": "i2vz2W8uB7Hu"
      },
      "outputs": [],
      "source": [
        "# misnomer really, contains the locomotion target variable as well\n",
        "feature_columns = [\n",
        "    \"InertialMeasurementUnit BACK accX\",\n",
        "    \"InertialMeasurementUnit BACK accY\",\n",
        "    \"InertialMeasurementUnit BACK accZ\",\n",
        "    \"InertialMeasurementUnit BACK gyroX\",\n",
        "    \"InertialMeasurementUnit BACK gyroY\",\n",
        "    \"InertialMeasurementUnit BACK gyroZ\",\n",
        "    \"InertialMeasurementUnit BACK magneticX\",\n",
        "    \"InertialMeasurementUnit BACK magneticY\",\n",
        "    \"InertialMeasurementUnit BACK magneticZ\",\n",
        "    \"InertialMeasurementUnit RUA accX\",\n",
        "    \"InertialMeasurementUnit RUA accY\",\n",
        "    \"InertialMeasurementUnit RUA accZ\",\n",
        "    \"InertialMeasurementUnit RUA gyroX\",\n",
        "    \"InertialMeasurementUnit RUA gyroY\",\n",
        "    \"InertialMeasurementUnit RUA gyroZ\",\n",
        "    \"InertialMeasurementUnit RUA magneticX\",\n",
        "    \"InertialMeasurementUnit RUA magneticY\",\n",
        "    \"InertialMeasurementUnit RUA magneticZ\",\n",
        "    \"InertialMeasurementUnit RLA accX\",\n",
        "    \"InertialMeasurementUnit RLA accY\",\n",
        "    \"InertialMeasurementUnit RLA accZ\",\n",
        "    \"InertialMeasurementUnit RLA gyroX\",\n",
        "    \"InertialMeasurementUnit RLA gyroY\",\n",
        "    \"InertialMeasurementUnit RLA gyroZ\",\n",
        "    \"InertialMeasurementUnit RLA magneticX\",\n",
        "    \"InertialMeasurementUnit RLA magneticY\",\n",
        "    \"InertialMeasurementUnit RLA magneticZ\",\n",
        "    \"InertialMeasurementUnit LUA accX\",\n",
        "    \"InertialMeasurementUnit LUA accY\",\n",
        "    \"InertialMeasurementUnit LUA accZ\",\n",
        "    \"InertialMeasurementUnit LUA gyroX\",\n",
        "    \"InertialMeasurementUnit LUA gyroY\",\n",
        "    \"InertialMeasurementUnit LUA gyroZ\",\n",
        "    \"InertialMeasurementUnit LUA magneticX\",\n",
        "    \"InertialMeasurementUnit LUA magneticY\",\n",
        "    \"InertialMeasurementUnit LUA magneticZ\",\n",
        "    \"InertialMeasurementUnit LLA accX\",\n",
        "    \"InertialMeasurementUnit LLA accY\",\n",
        "    \"InertialMeasurementUnit LLA accZ\",\n",
        "    \"InertialMeasurementUnit LLA gyroX\",\n",
        "    \"InertialMeasurementUnit LLA gyroY\",\n",
        "    \"InertialMeasurementUnit LLA gyroZ\",\n",
        "    \"InertialMeasurementUnit LLA magneticX\",\n",
        "    \"InertialMeasurementUnit LLA magneticY\",\n",
        "    \"InertialMeasurementUnit LLA magneticZ\",\n",
        "    \"InertialMeasurementUnit L-SHOE EuX\",\n",
        "    \"InertialMeasurementUnit L-SHOE EuY\",\n",
        "    \"InertialMeasurementUnit L-SHOE EuZ\",\n",
        "    \"InertialMeasurementUnit L-SHOE Nav_Ax\",\n",
        "    \"InertialMeasurementUnit L-SHOE Nav_Ay\",\n",
        "    \"InertialMeasurementUnit L-SHOE Nav_Az\",\n",
        "    \"InertialMeasurementUnit L-SHOE Body_Ax\",\n",
        "    \"InertialMeasurementUnit L-SHOE Body_Ay\",\n",
        "    \"InertialMeasurementUnit L-SHOE Body_Az\",\n",
        "    \"InertialMeasurementUnit L-SHOE AngVelBodyFrameX\",\n",
        "    \"InertialMeasurementUnit L-SHOE AngVelBodyFrameY\",\n",
        "    \"InertialMeasurementUnit L-SHOE AngVelBodyFrameZ\",\n",
        "    \"InertialMeasurementUnit L-SHOE AngVelNavFrameX\",\n",
        "    \"InertialMeasurementUnit L-SHOE AngVelNavFrameY\",\n",
        "    \"InertialMeasurementUnit L-SHOE AngVelNavFrameZ\",\n",
        "    \"InertialMeasurementUnit L-SHOE Compass\",\n",
        "    \"InertialMeasurementUnit R-SHOE EuX\",\n",
        "    \"InertialMeasurementUnit R-SHOE EuY\",\n",
        "    \"InertialMeasurementUnit R-SHOE EuZ\",\n",
        "    \"InertialMeasurementUnit R-SHOE Nav_Ax\",\n",
        "    \"InertialMeasurementUnit R-SHOE Nav_Ay\",\n",
        "    \"InertialMeasurementUnit R-SHOE Nav_Az\",\n",
        "    \"InertialMeasurementUnit R-SHOE Body_Ax\",\n",
        "    \"InertialMeasurementUnit R-SHOE Body_Ay\",\n",
        "    \"InertialMeasurementUnit R-SHOE Body_Az\",\n",
        "    \"InertialMeasurementUnit R-SHOE AngVelBodyFrameX\",\n",
        "    \"InertialMeasurementUnit R-SHOE AngVelBodyFrameY\",\n",
        "    \"InertialMeasurementUnit R-SHOE AngVelBodyFrameZ\",\n",
        "    \"InertialMeasurementUnit R-SHOE AngVelNavFrameX\",\n",
        "    \"InertialMeasurementUnit R-SHOE AngVelNavFrameY\",\n",
        "    \"InertialMeasurementUnit R-SHOE AngVelNavFrameZ\",\n",
        "    \"InertialMeasurementUnit R-SHOE Compass\",\n",
        "    \"Locomotion\",\n",
        "]"
      ]
    },
    {
      "cell_type": "code",
      "execution_count": null,
      "metadata": {
        "id": "VzsoNJpCB7Hv"
      },
      "outputs": [],
      "source": [
        "# this one is comprised entirely of features\n",
        "body_features_raw = [\n",
        "    \"InertialMeasurementUnit BACK accX\",\n",
        "    \"InertialMeasurementUnit BACK accY\",\n",
        "    \"InertialMeasurementUnit BACK accZ\",\n",
        "    \"InertialMeasurementUnit BACK gyroX\",\n",
        "    \"InertialMeasurementUnit BACK gyroY\",\n",
        "    \"InertialMeasurementUnit BACK gyroZ\",\n",
        "    \"InertialMeasurementUnit BACK magneticX\",\n",
        "    \"InertialMeasurementUnit BACK magneticY\",\n",
        "    \"InertialMeasurementUnit BACK magneticZ\",\n",
        "    \"InertialMeasurementUnit RUA accX\",\n",
        "    \"InertialMeasurementUnit RUA accY\",\n",
        "    \"InertialMeasurementUnit RUA accZ\",\n",
        "    \"InertialMeasurementUnit RUA gyroX\",\n",
        "    \"InertialMeasurementUnit RUA gyroY\",\n",
        "    \"InertialMeasurementUnit RUA gyroZ\",\n",
        "    \"InertialMeasurementUnit RUA magneticX\",\n",
        "    \"InertialMeasurementUnit RUA magneticY\",\n",
        "    \"InertialMeasurementUnit RUA magneticZ\",\n",
        "    \"InertialMeasurementUnit RLA accX\",\n",
        "    \"InertialMeasurementUnit RLA accY\",\n",
        "    \"InertialMeasurementUnit RLA accZ\",\n",
        "    \"InertialMeasurementUnit RLA gyroX\",\n",
        "    \"InertialMeasurementUnit RLA gyroY\",\n",
        "    \"InertialMeasurementUnit RLA gyroZ\",\n",
        "    \"InertialMeasurementUnit RLA magneticX\",\n",
        "    \"InertialMeasurementUnit RLA magneticY\",\n",
        "    \"InertialMeasurementUnit RLA magneticZ\",\n",
        "    \"InertialMeasurementUnit LUA accX\",\n",
        "    \"InertialMeasurementUnit LUA accY\",\n",
        "    \"InertialMeasurementUnit LUA accZ\",\n",
        "    \"InertialMeasurementUnit LUA gyroX\",\n",
        "    \"InertialMeasurementUnit LUA gyroY\",\n",
        "    \"InertialMeasurementUnit LUA gyroZ\",\n",
        "    \"InertialMeasurementUnit LUA magneticX\",\n",
        "    \"InertialMeasurementUnit LUA magneticY\",\n",
        "    \"InertialMeasurementUnit LUA magneticZ\",\n",
        "    \"InertialMeasurementUnit LLA accX\",\n",
        "    \"InertialMeasurementUnit LLA accY\",\n",
        "    \"InertialMeasurementUnit LLA accZ\",\n",
        "    \"InertialMeasurementUnit LLA gyroX\",\n",
        "    \"InertialMeasurementUnit LLA gyroY\",\n",
        "    \"InertialMeasurementUnit LLA gyroZ\",\n",
        "    \"InertialMeasurementUnit LLA magneticX\",\n",
        "    \"InertialMeasurementUnit LLA magneticY\",\n",
        "    \"InertialMeasurementUnit LLA magneticZ\",\n",
        "    \"InertialMeasurementUnit L-SHOE EuX\",\n",
        "    \"InertialMeasurementUnit L-SHOE EuY\",\n",
        "    \"InertialMeasurementUnit L-SHOE EuZ\",\n",
        "    \"InertialMeasurementUnit L-SHOE Nav_Ax\",\n",
        "    \"InertialMeasurementUnit L-SHOE Nav_Ay\",\n",
        "    \"InertialMeasurementUnit L-SHOE Nav_Az\",\n",
        "    \"InertialMeasurementUnit L-SHOE Body_Ax\",\n",
        "    \"InertialMeasurementUnit L-SHOE Body_Ay\",\n",
        "    \"InertialMeasurementUnit L-SHOE Body_Az\",\n",
        "    \"InertialMeasurementUnit L-SHOE AngVelBodyFrameX\",\n",
        "    \"InertialMeasurementUnit L-SHOE AngVelBodyFrameY\",\n",
        "    \"InertialMeasurementUnit L-SHOE AngVelBodyFrameZ\",\n",
        "    \"InertialMeasurementUnit L-SHOE AngVelNavFrameX\",\n",
        "    \"InertialMeasurementUnit L-SHOE AngVelNavFrameY\",\n",
        "    \"InertialMeasurementUnit L-SHOE AngVelNavFrameZ\",\n",
        "    \"InertialMeasurementUnit L-SHOE Compass\",\n",
        "    \"InertialMeasurementUnit R-SHOE EuX\",\n",
        "    \"InertialMeasurementUnit R-SHOE EuY\",\n",
        "    \"InertialMeasurementUnit R-SHOE EuZ\",\n",
        "    \"InertialMeasurementUnit R-SHOE Nav_Ax\",\n",
        "    \"InertialMeasurementUnit R-SHOE Nav_Ay\",\n",
        "    \"InertialMeasurementUnit R-SHOE Nav_Az\",\n",
        "    \"InertialMeasurementUnit R-SHOE Body_Ax\",\n",
        "    \"InertialMeasurementUnit R-SHOE Body_Ay\",\n",
        "    \"InertialMeasurementUnit R-SHOE Body_Az\",\n",
        "    \"InertialMeasurementUnit R-SHOE AngVelBodyFrameX\",\n",
        "    \"InertialMeasurementUnit R-SHOE AngVelBodyFrameY\",\n",
        "    \"InertialMeasurementUnit R-SHOE AngVelBodyFrameZ\",\n",
        "    \"InertialMeasurementUnit R-SHOE AngVelNavFrameX\",\n",
        "    \"InertialMeasurementUnit R-SHOE AngVelNavFrameY\",\n",
        "    \"InertialMeasurementUnit R-SHOE AngVelNavFrameZ\",\n",
        "    \"InertialMeasurementUnit R-SHOE Compass\",\n",
        "]"
      ]
    },
    {
      "cell_type": "code",
      "execution_count": null,
      "metadata": {
        "id": "tIX98cjKB7Hv"
      },
      "outputs": [],
      "source": [
        "def replace_duplicates(input_list):\n",
        "    \"\"\"\n",
        "    Replaces duplicate columns in the column list based on preset rules.\n",
        "    The duplicates have an X at the end, so it is assumed that needs to be changed to Y\n",
        "    for second occurence and X for the third.\n",
        "\n",
        "    Returns the corrected list of column names.\"\"\"\n",
        "    counts = {}\n",
        "    new_list = []\n",
        "    for item in input_list:\n",
        "        if item in counts:\n",
        "            counts[item] += 1\n",
        "            if counts[item] == 2:\n",
        "                new_list.append(item[:-1] + \"Y\")\n",
        "            elif counts[item] == 3:\n",
        "                new_list.append(item[:-1] + \"Z\")\n",
        "            else:\n",
        "                new_list.append(item)\n",
        "        else:\n",
        "            counts[item] = 1\n",
        "            new_list.append(item)\n",
        "    return new_list"
      ]
    },
    {
      "cell_type": "code",
      "execution_count": null,
      "metadata": {
        "id": "TV3JAvmXB7Hv"
      },
      "outputs": [],
      "source": [
        "unique_column_names = replace_duplicates(column_names)"
      ]
    },
    {
      "cell_type": "code",
      "execution_count": null,
      "metadata": {
        "id": "gg7ESaVAB7Hw"
      },
      "outputs": [],
      "source": [
        "def get_file(filepath: str):\n",
        "    \"\"\"\n",
        "    Gets the data file with required subset columns.\"\"\"\n",
        "    df = pd.read_csv(filepath, header=None, names=unique_column_names, delimiter=\" \")\n",
        "    return df[feature_columns]"
      ]
    },
    {
      "cell_type": "code",
      "execution_count": null,
      "metadata": {
        "id": "1l1fsum2B7Hw"
      },
      "outputs": [],
      "source": [
        "def remove_missing_values(df: pd.DataFrame, method=\"linear\", order=None):\n",
        "    \"\"\"\n",
        "    Interpolation for missing values\n",
        "    \"\"\"\n",
        "    # todo: add method for removing missing rows entirely\n",
        "    # todo allow interpolation only if certain number of columns have missing values\n",
        "    if not df.empty:\n",
        "        if method == \"spline\":\n",
        "            return df.interpolate(method=method, order=order)\n",
        "        return df.interpolate(method=method, limit_direction=\"both\")\n",
        "    return df"
      ]
    },
    {
      "cell_type": "code",
      "execution_count": null,
      "metadata": {
        "id": "sGG6J05AB7Hw"
      },
      "outputs": [],
      "source": [
        "def get_filenames(data_dir, test_files):\n",
        "    os.chdir(data_dir)\n",
        "    train_filenames = []\n",
        "    test_filenames = []\n",
        "\n",
        "    for folder in os.listdir():\n",
        "        folder_path = os.path.join(data_dir, folder)\n",
        "        sensor_path = os.path.join(folder_path, f\"{folder}_sensors_data.txt\")\n",
        "        if folder not in test_files:\n",
        "            train_filenames.append(rf\"{sensor_path}\")\n",
        "        else:\n",
        "            test_filenames.append(rf\"{sensor_path}\")\n",
        "    return test_filenames, train_filenames"
      ]
    },
    {
      "cell_type": "code",
      "execution_count": null,
      "metadata": {
        "id": "pnKwHf2EkILK"
      },
      "outputs": [],
      "source": [
        "pd.set_option(\"display.max_rows\", None)"
      ]
    },
    {
      "cell_type": "code",
      "execution_count": null,
      "metadata": {
        "id": "Tug9QY9hB7Hw"
      },
      "outputs": [],
      "source": [
        "def apply_sliding_window_combine(\n",
        "    filepath: str, target_var: str, window_size=16, overlap=0.5\n",
        "):\n",
        "    \"\"\"\n",
        "    Apply sliding window transforms to features and target of the given file.\n",
        "\n",
        "    Params:\n",
        "    - filepath (str): Path of the csv file that data is contained in.\n",
        "    - target_var (str): Target variable chosen for the given csv file.\n",
        "    - window_size (int): Size of one sliding window for the transform.\n",
        "    - overlap (float): Percentage overlap between two consecutive sliding windows.\n",
        "    \"\"\"\n",
        "    # todo: error handling for no or multiple target variables.\n",
        "    # todo: allow alternative saving as a pandas dataframe.\n",
        "    shift_by = int(window_size * (1 - overlap))\n",
        "    df = get_file(filepath)\n",
        "    df = remove_missing_values(df)\n",
        "    print(df.isnull().any())\n",
        "\n",
        "    def sliding_window_processing(data, window_size, shift_by):\n",
        "        \"\"\"\n",
        "        Perform sliding window operations on a single column of a df, return as np array.\n",
        "        \"\"\"\n",
        "        start, end = 0, window_size\n",
        "        windows = []\n",
        "        while end <= len(data):\n",
        "            windows.append(data[start:end])\n",
        "            start += shift_by\n",
        "            end += shift_by\n",
        "        return np.array(windows)\n",
        "\n",
        "    sliding_windows = {\n",
        "        feature: sliding_window_processing(df[feature].values, window_size, shift_by)\n",
        "        for feature in body_features_raw\n",
        "    }\n",
        "    target = sliding_window_processing(df[target_var].values, window_size, shift_by)\n",
        "    combined_data = np.stack(\n",
        "        [sliding_windows[feature] for feature in body_features_raw], axis=-1\n",
        "    )\n",
        "\n",
        "    return combined_data, target"
      ]
    },
    {
      "cell_type": "code",
      "execution_count": null,
      "metadata": {
        "colab": {
          "base_uri": "https://localhost:8080/"
        },
        "id": "tVhoRoZkB7Hx",
        "outputId": "393aa162-2605-45a8-b842-a0eb0109f1fb"
      },
      "outputs": [],
      "source": [
        "train_filenames = os.listdir(os.path.join(path, \"train\"))\n",
        "test_filenames = os.listdir(os.path.join(path, \"test\"))\n",
        "\n",
        "train_filenames"
      ]
    },
    {
      "cell_type": "code",
      "execution_count": null,
      "metadata": {
        "colab": {
          "base_uri": "https://localhost:8080/"
        },
        "id": "QCKOjxjmB7Hx",
        "outputId": "c8a0fcfb-d8c9-4292-f835-d11dc187803c"
      },
      "outputs": [],
      "source": [
        "test_filenames"
      ]
    },
    {
      "cell_type": "code",
      "execution_count": null,
      "metadata": {
        "colab": {
          "base_uri": "https://localhost:8080/"
        },
        "id": "PuTg6FOjkjTk",
        "outputId": "834f1de1-dfe7-4160-f280-3ca5438af716"
      },
      "outputs": [],
      "source": [
        "# testing for missing values\n",
        "df = get_file(f\"{path}test/S4-Drill_sensors_data.txt\")\n",
        "df = remove_missing_values(df)\n",
        "\n",
        "assert df.isnull().sum().sum() == 0, \"Missing value removal failed\""
      ]
    },
    {
      "cell_type": "code",
      "execution_count": null,
      "metadata": {
        "colab": {
          "base_uri": "https://localhost:8080/"
        },
        "id": "0IY55RPoB7Hy",
        "outputId": "03d39e99-e755-4986-8c9f-a309a3cce8a6"
      },
      "outputs": [],
      "source": [
        "all_combined = []\n",
        "all_targets = []\n",
        "for filepath in test_filenames:\n",
        "    combined_data, target = apply_sliding_window_combine(\n",
        "        filepath=os.path.join(path, f\"test/{filepath}\"), target_var=\"Locomotion\"\n",
        "    )\n",
        "    all_combined.append(combined_data)\n",
        "    all_targets.append(target)\n",
        "\n",
        "final_combined_test = np.concatenate(all_combined)\n",
        "final_targets_test = np.concatenate(all_targets)"
      ]
    },
    {
      "cell_type": "code",
      "execution_count": null,
      "metadata": {
        "colab": {
          "base_uri": "https://localhost:8080/"
        },
        "id": "nxbpoOlAGl_M",
        "outputId": "94796205-178b-492b-f845-fe0b5381e3c3"
      },
      "outputs": [],
      "source": [
        "all_combined = []\n",
        "all_targets = []\n",
        "for filepath in train_filenames:\n",
        "    combined_data, target = apply_sliding_window_combine(\n",
        "        filepath=os.path.join(path, f\"train/{filepath}\"), target_var=\"Locomotion\"\n",
        "    )\n",
        "    all_combined.append(combined_data)\n",
        "    all_targets.append(target)\n",
        "\n",
        "final_combined_train = np.concatenate(all_combined)\n",
        "final_targets_train = np.concatenate(all_targets)"
      ]
    },
    {
      "cell_type": "code",
      "execution_count": null,
      "metadata": {
        "colab": {
          "base_uri": "https://localhost:8080/"
        },
        "id": "NlBeoEVqZRNg",
        "outputId": "1c6f9a20-232f-4709-c39e-fcd94e4cfabe"
      },
      "outputs": [],
      "source": [
        "test_data = np.array(final_combined_test)\n",
        "test_targets = np.array(final_targets_test)\n",
        "print(test_data.shape)"
      ]
    },
    {
      "cell_type": "code",
      "execution_count": null,
      "metadata": {
        "colab": {
          "base_uri": "https://localhost:8080/"
        },
        "id": "jdgyrUoZZrr6",
        "outputId": "196c784d-97db-4a9f-a4ba-a9b4a6f31aad"
      },
      "outputs": [],
      "source": [
        "train_data = np.array(final_combined_train)\n",
        "train_targets = np.array(final_targets_train)\n",
        "print(train_data.shape)"
      ]
    },
    {
      "cell_type": "code",
      "execution_count": null,
      "metadata": {
        "colab": {
          "base_uri": "https://localhost:8080/"
        },
        "id": "wZICUJdqB7Hy",
        "outputId": "f9f360cb-663e-4ad7-cfbb-62c835d5a901"
      },
      "outputs": [],
      "source": [
        "X_train = train_data\n",
        "y_train = train_targets\n",
        "\n",
        "X_test = test_data\n",
        "y_test = test_targets\n",
        "\n",
        "assert X_train.shape[1] == 16, \"Number of timesteps is wrong\"\n",
        "assert X_train.shape[2] == 77, \"Number of features is wrong\"\n",
        "assert y_train.shape[1] == 16, \"Number of labels is wrong\""
      ]
    },
    {
      "cell_type": "code",
      "execution_count": null,
      "metadata": {
        "id": "-MNE2UYv1du1"
      },
      "outputs": [],
      "source": [
        "def majority_voting_labels(y_train):\n",
        "    y_train_adjusted = np.where(y_train > 2, y_train - 1, y_train)\n",
        "    y_train_majority_voted = np.apply_along_axis(\n",
        "        lambda x: np.bincount(x).argmax(), 1, y_train_adjusted\n",
        "    )\n",
        "\n",
        "    return y_train_majority_voted"
      ]
    },
    {
      "cell_type": "code",
      "execution_count": null,
      "metadata": {
        "colab": {
          "base_uri": "https://localhost:8080/"
        },
        "id": "uyuMhSVF1emq",
        "outputId": "19a6cdf6-1741-45eb-b714-7b4686d9f11e"
      },
      "outputs": [],
      "source": [
        "y_train_majority = majority_voting_labels(y_train)\n",
        "y_test_majority = majority_voting_labels(y_test)\n",
        "print(y_train_majority.shape)\n",
        "print(y_train_majority[:5], y_train_majority[110:115])"
      ]
    },
    {
      "cell_type": "code",
      "execution_count": null,
      "metadata": {
        "colab": {
          "base_uri": "https://localhost:8080/"
        },
        "id": "-obTCgMz2IQk",
        "outputId": "a5e1bb7f-fe37-45f6-c322-47854cc59920"
      },
      "outputs": [],
      "source": [
        "y_train_majority_encoded = to_categorical(y_train_majority)\n",
        "y_test_majority_encoded = to_categorical(y_test_majority)\n",
        "assert y_train_majority.shape[1] == 5, \"Label Encoding is incorrect\""
      ]
    },
    {
      "cell_type": "code",
      "execution_count": null,
      "metadata": {
        "id": "G77iJwQeXzTg"
      },
      "outputs": [],
      "source": [
        "assert not np.any(np.isnan(y_train_majority_encoded)), \"y_train contains NaN values\"\n",
        "assert not np.any(np.isnan(X_train)), \"X_train still has missing values\""
      ]
    },
    {
      "cell_type": "code",
      "execution_count": null,
      "metadata": {
        "id": "ZxIjsAQ8XeIy"
      },
      "outputs": [],
      "source": [
        "# nan_indices = np.where(np.isnan(X_train))\n",
        "# print(f\"NaN values found at indices: {nan_indices}\")\n",
        "# count = 0\n",
        "# for index in zip(*nan_indices):\n",
        "#     count += 1\n",
        "#     if count>=5000:\n",
        "#         break\n",
        "#     print(f\"NaN found at index: {index}, value: {X_train[index]}\")"
      ]
    },
    {
      "cell_type": "code",
      "execution_count": null,
      "metadata": {
        "colab": {
          "base_uri": "https://localhost:8080/"
        },
        "id": "u9nRsBti4mms",
        "outputId": "8cef4fee-e80e-402c-c904-99cf2f358034"
      },
      "outputs": [],
      "source": [
        "y_train_classes, y_train_counts = np.unique(y_train_majority, return_counts=True)\n",
        "y_test_classes, y_test_counts = np.unique(y_test_majority, return_counts=True)\n",
        "\n",
        "plt.figure(figsize=(12, 6))\n",
        "\n",
        "plt.subplot(1, 2, 1)\n",
        "plt.bar(y_train_classes, y_train_counts, color=\"blue\", alpha=0.7)\n",
        "plt.xlabel(\"Class\")\n",
        "plt.ylabel(\"Count\")\n",
        "plt.title(\"Class Distribution in Training Data\")\n",
        "\n",
        "plt.subplot(1, 2, 2)\n",
        "plt.bar(y_test_classes, y_test_counts, color=\"green\", alpha=0.7)\n",
        "plt.xlabel(\"Class\")\n",
        "plt.ylabel(\"Count\")\n",
        "plt.title(\"Class Distribution in Test Data\")\n",
        "\n",
        "plt.tight_layout()\n",
        "plt.show()"
      ]
    },
    {
      "cell_type": "code",
      "execution_count": null,
      "metadata": {
        "id": "ogmo9uCsCjm2"
      },
      "outputs": [],
      "source": [
        "def build_lstm_cnn_model(\n",
        "    input_shape, num_classes=5, conv_filters=64, kernel_size=3, dropout_rate=0.2\n",
        "):\n",
        "    model = Sequential()\n",
        "    model.add(LSTM(units=32, return_sequences=True, input_shape=input_shape))\n",
        "    model.add(LSTM(units=32, return_sequences=True))\n",
        "    model.add(Dropout(dropout_rate))\n",
        "\n",
        "    model.add(Conv1D(filters=64, kernel_size=5, strides=5, activation=\"relu\"))\n",
        "    # model.add(MaxPooling1D(pool_size=2, strides=2))\n",
        "    # model.add(Conv1D(filters=128, kernel_size=3, strides=1, activation='relu'))\n",
        "    model.add(GlobalAveragePooling1D())\n",
        "\n",
        "    model.add(BatchNormalization())\n",
        "    model.add(Dense(num_classes, activation=\"softmax\"))\n",
        "\n",
        "    model.compile(\n",
        "        optimizer=\"adam\", loss=\"categorical_crossentropy\", metrics=[\"accuracy\"]\n",
        "    )\n",
        "    return model"
      ]
    },
    {
      "cell_type": "code",
      "execution_count": null,
      "metadata": {
        "id": "8V-KHNifCnTk"
      },
      "outputs": [],
      "source": [
        "def train_model(model, X_train, y_train, X_val, y_val, batch_size=64, epochs=10):\n",
        "    early_stopping = EarlyStopping(\n",
        "        monitor=\"val_loss\", patience=6, restore_best_weights=True\n",
        "    )\n",
        "    model_checkpoint = ModelCheckpoint(\n",
        "        \"best_model.keras\", monitor=\"val_loss\", save_best_only=True\n",
        "    )\n",
        "    # todo - change validation data\n",
        "    # Is this too bulky? Will it slow down my training sufficiently? What is the tradeoff between generalization and compute cost?\n",
        "    # metrics_callback = MetricsCallback(validation_data=(X_val, y_val))\n",
        "\n",
        "    history = model.fit(\n",
        "        X_train,\n",
        "        y_train,\n",
        "        validation_data=(X_val, y_val),\n",
        "        epochs=epochs,\n",
        "        batch_size=batch_size,\n",
        "        callbacks=[model_checkpoint],\n",
        "    )\n",
        "\n",
        "    return history"
      ]
    },
    {
      "cell_type": "code",
      "execution_count": null,
      "metadata": {
        "colab": {
          "base_uri": "https://localhost:8080/",
          "height": 402
        },
        "id": "xS2iMxFtCpRn",
        "outputId": "698eb79e-5fc6-470a-f85e-e95840bd82dd"
      },
      "outputs": [],
      "source": [
        "model = build_lstm_cnn_model(input_shape=(16, 77))\n",
        "model.summary()"
      ]
    },
    {
      "cell_type": "code",
      "execution_count": null,
      "metadata": {
        "colab": {
          "base_uri": "https://localhost:8080/"
        },
        "id": "h6vAtTTxCrtk",
        "outputId": "6364b14b-d2c7-4055-a7d7-455095ccfeeb"
      },
      "outputs": [],
      "source": [
        "history = train_model(\n",
        "    model,\n",
        "    X_train,\n",
        "    y_train_majority_encoded,\n",
        "    X_test[:10000],\n",
        "    y_test_majority_encoded[:10000],\n",
        "    batch_size=32,\n",
        "    epochs=30,\n",
        ")"
      ]
    },
    {
      "cell_type": "code",
      "execution_count": null,
      "metadata": {
        "id": "e6vk9LMzCvIS"
      },
      "outputs": [],
      "source": [
        "def plot_training_history(history):\n",
        "    plt.figure(figsize=(12, 6))\n",
        "\n",
        "    plt.subplot(1, 2, 1)\n",
        "    plt.plot(history.history[\"accuracy\"])\n",
        "    plt.plot(history.history[\"val_accuracy\"])\n",
        "    plt.title(\"Model Accuracy\")\n",
        "    plt.ylabel(\"Accuracy\")\n",
        "    plt.xlabel(\"Epoch\")\n",
        "    plt.legend([\"Train\", \"Validation\"], loc=\"upper left\")\n",
        "\n",
        "    plt.subplot(1, 2, 2)\n",
        "    plt.plot(history.history[\"loss\"])\n",
        "    plt.plot(history.history[\"val_loss\"])\n",
        "    plt.title(\"Model Loss\")\n",
        "    plt.ylabel(\"Loss\")\n",
        "    plt.xlabel(\"Epoch\")\n",
        "    plt.legend([\"Train\", \"Validation\"], loc=\"upper left\")\n",
        "\n",
        "    plt.show()"
      ]
    },
    {
      "cell_type": "code",
      "execution_count": null,
      "metadata": {
        "id": "xvosjFwaCxSM"
      },
      "outputs": [],
      "source": [
        "plot_training_history(history)"
      ]
    },
    {
      "cell_type": "code",
      "execution_count": null,
      "metadata": {
        "id": "Tg5XrnYG1CXK"
      },
      "outputs": [],
      "source": [
        "model.save(\"model_2.keras\")"
      ]
    },
    {
      "cell_type": "code",
      "execution_count": null,
      "metadata": {
        "colab": {
          "base_uri": "https://localhost:8080/"
        },
        "id": "Iw9gmiLb1GVO",
        "outputId": "6072bd8c-0d89-459b-c733-ecc3f3473ac7"
      },
      "outputs": [],
      "source": [
        "test_loss, test_accuracy = model.evaluate(X_test, y_test_majority_encoded)\n",
        "print(f\"Test Loss: {test_loss}, Test Accuracy: {test_accuracy}\")"
      ]
    },
    {
      "cell_type": "code",
      "execution_count": null,
      "metadata": {
        "colab": {
          "base_uri": "https://localhost:8080/",
          "height": 332
        },
        "id": "PxYQyxmMHdSY",
        "outputId": "4241f128-9c51-4258-d081-0490ad7caa3f"
      },
      "outputs": [],
      "source": [
        "best_model = keras.models.load_model(\"best_model.keras\")\n",
        "test_loss, test_accuracy = best_model.evaluate(X_test, y_test_majority_encoded)\n",
        "print(f\"Test Loss: {test_loss}, Test Accuracy: {test_accuracy}\")"
      ]
    }
  ],
  "metadata": {
    "accelerator": "GPU",
    "colab": {
      "gpuType": "T4",
      "provenance": []
    },
    "kernelspec": {
      "display_name": "Python 3",
      "name": "python3"
    },
    "language_info": {
      "codemirror_mode": {
        "name": "ipython",
        "version": 3
      },
      "file_extension": ".py",
      "mimetype": "text/x-python",
      "name": "python",
      "nbconvert_exporter": "python",
      "pygments_lexer": "ipython3",
      "version": "3.8.17"
    }
  },
  "nbformat": 4,
  "nbformat_minor": 0
}
